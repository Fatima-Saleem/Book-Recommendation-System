{
 "cells": [
  {
   "cell_type": "markdown",
   "metadata": {
    "id": "HdET6f0thZC1"
   },
   "source": [
    "## Load Data"
   ]
  },
  {
   "cell_type": "code",
   "execution_count": 2,
   "metadata": {
    "colab": {
     "base_uri": "https://localhost:8080/"
    },
    "id": "9g1XrXi-hglE",
    "outputId": "ce2fef6a-f990-4545-d7c5-064c2132ca5b"
   },
   "outputs": [
    {
     "name": "stdout",
     "output_type": "stream",
     "text": [
      "Books DataFrame:\n",
      "      Book-ID                                              Title  \\\n",
      "0  0195153448                                Classical Mythology   \n",
      "1  0002005018                                       Clara Callan   \n",
      "2  0060973129                               Decision in Normandy   \n",
      "3  0374157065  Flu: The Story of the Great Influenza Pandemic...   \n",
      "4  0393045218                             The Mummies of Urumchi   \n",
      "\n",
      "                 Author  Year-Of-Publication                Publisher  \\\n",
      "0    Mark P. O. Morford                 2002  Oxford University Press   \n",
      "1  Richard Bruce Wright                 2001    HarperFlamingo Canada   \n",
      "2          Carlo D'Este                 1991          HarperPerennial   \n",
      "3      Gina Bari Kolata                 1999     Farrar Straus Giroux   \n",
      "4       E. J. W. Barber                 1999   W. W. Norton & Company   \n",
      "\n",
      "                                         Image-URL-S  \\\n",
      "0  http://images.amazon.com/images/P/0195153448.0...   \n",
      "1  http://images.amazon.com/images/P/0002005018.0...   \n",
      "2  http://images.amazon.com/images/P/0060973129.0...   \n",
      "3  http://images.amazon.com/images/P/0374157065.0...   \n",
      "4  http://images.amazon.com/images/P/0393045218.0...   \n",
      "\n",
      "                                         Image-URL-M  \\\n",
      "0  http://images.amazon.com/images/P/0195153448.0...   \n",
      "1  http://images.amazon.com/images/P/0002005018.0...   \n",
      "2  http://images.amazon.com/images/P/0060973129.0...   \n",
      "3  http://images.amazon.com/images/P/0374157065.0...   \n",
      "4  http://images.amazon.com/images/P/0393045218.0...   \n",
      "\n",
      "                                         Image-URL-L  \n",
      "0  http://images.amazon.com/images/P/0195153448.0...  \n",
      "1  http://images.amazon.com/images/P/0002005018.0...  \n",
      "2  http://images.amazon.com/images/P/0060973129.0...  \n",
      "3  http://images.amazon.com/images/P/0374157065.0...  \n",
      "4  http://images.amazon.com/images/P/0393045218.0...  \n"
     ]
    }
   ],
   "source": [
    "import pandas as pd\n",
    "import numpy as np\n",
    "\n",
    "# Load the datasets, skipping problematic lines\n",
    "books_df = pd.read_csv('BX_Books.csv', sep=';', encoding='latin-1', header=0, names=['Book-ID', 'Title', 'Author', 'Year-Of-Publication', 'Publisher', 'Image-URL-S', 'Image-URL-M', 'Image-URL-L'], on_bad_lines='skip')\n",
    "ratings = pd.read_csv('BX-Book-Ratings.csv', sep=';', encoding='latin-1', on_bad_lines='skip')\n",
    "\n",
    "# Display the first few rows of each DataFrame\n",
    "print(\"Books DataFrame:\")\n",
    "print(books_df.head())\n"
   ]
  },
  {
   "cell_type": "markdown",
   "metadata": {
    "id": "E5v_rnBZkOrM"
   },
   "source": [
    "## Pre-processing of Both Data"
   ]
  },
  {
   "cell_type": "code",
   "execution_count": 3,
   "metadata": {
    "colab": {
     "base_uri": "https://localhost:8080/"
    },
    "id": "zCx5ME8LkbO3",
    "outputId": "0b5b8b61-ed01-4e77-fb26-be74eca97dd6"
   },
   "outputs": [
    {
     "name": "stdout",
     "output_type": "stream",
     "text": [
      "Books DataFrame without image columns and with corrected years:\n",
      "      Book-ID                                              Title  \\\n",
      "0  0195153448                                Classical Mythology   \n",
      "1  0002005018                                       Clara Callan   \n",
      "2  0060973129                               Decision in Normandy   \n",
      "3  0374157065  Flu: The Story of the Great Influenza Pandemic...   \n",
      "4  0393045218                             The Mummies of Urumchi   \n",
      "\n",
      "                 Author  Year-Of-Publication  \n",
      "0    Mark P. O. Morford                 2002  \n",
      "1  Richard Bruce Wright                 2001  \n",
      "2          Carlo D'Este                 1991  \n",
      "3      Gina Bari Kolata                 1999  \n",
      "4       E. J. W. Barber                 1999  \n"
     ]
    }
   ],
   "source": [
    "# Drop the image columns\n",
    "books_df = books_df.drop(columns=['Publisher','Image-URL-S', 'Image-URL-M', 'Image-URL-L'])\n",
    "\n",
    "# Drop rows with any null (NaN) values\n",
    "books_df = books_df.dropna()\n",
    "\n",
    "# Display the cleaned-up dataframe\n",
    "print(\"Books DataFrame without image columns and with corrected years:\")\n",
    "print(books_df.head())\n"
   ]
  },
  {
   "cell_type": "code",
   "execution_count": 4,
   "metadata": {
    "colab": {
     "base_uri": "https://localhost:8080/"
    },
    "id": "2eCr_Sf4lRff",
    "outputId": "4728a728-c33e-41dd-cb7a-8fdadab59841"
   },
   "outputs": [
    {
     "name": "stdout",
     "output_type": "stream",
     "text": [
      "Shape of the books DataFrame: (271377, 4)\n"
     ]
    }
   ],
   "source": [
    "# Calculate the shape of the books DataFrame\n",
    "books_shape = books_df.shape\n",
    "\n",
    "# Display the shape\n",
    "print(\"Shape of the books DataFrame:\", books_shape)\n"
   ]
  },
  {
   "cell_type": "code",
   "execution_count": 5,
   "metadata": {
    "colab": {
     "base_uri": "https://localhost:8080/"
    },
    "id": "lRESs0EvnNHR",
    "outputId": "6107c5ea-a687-4a89-f644-ca3546dbcea0"
   },
   "outputs": [
    {
     "name": "stdout",
     "output_type": "stream",
     "text": [
      "\n",
      "Ratings DataFrame:\n",
      "   User-ID        ISBN  Book-Rating\n",
      "0   276725  034545104X            0\n",
      "1   276726  0155061224            5\n",
      "2   276727  0446520802            0\n",
      "3   276729  052165615X            3\n",
      "4   276729  0521795028            6\n"
     ]
    }
   ],
   "source": [
    "# Remove duplicates\n",
    "ratings = ratings.drop_duplicates(subset=['User-ID', 'ISBN'])\n",
    "\n",
    "# Filter out ratings <= 0\n",
    "ratings = ratings[ratings['Book-Rating'] >= 0]\n",
    "\n",
    "# Handle missing data\n",
    "ratings = ratings.dropna(subset=['Book-Rating'])\n",
    "\n",
    "print(\"\\nRatings DataFrame:\")\n",
    "print(ratings.head())\n"
   ]
  },
  {
   "cell_type": "code",
   "execution_count": 6,
   "metadata": {
    "colab": {
     "base_uri": "https://localhost:8080/"
    },
    "id": "6RPC0fjCF4CM",
    "outputId": "38cc11a2-2fa3-4784-bdad-bed5552828e6"
   },
   "outputs": [
    {
     "name": "stdout",
     "output_type": "stream",
     "text": [
      "Original dataset size: 1149780 rows\n",
      "Filtered dataset size: 133749 rows\n",
      "      User-ID        ISBN  Book-Rating\n",
      "1083   277195  0060391626           10\n",
      "1084   277195  0060502258            0\n",
      "1089   277195  0060987561            0\n",
      "1098   277195  0316666343            0\n",
      "1099   277195  0316734837            0\n"
     ]
    }
   ],
   "source": [
    "# Group by ISBN to count the number of ratings per book\n",
    "rating_counts = ratings.groupby('ISBN').size()\n",
    "\n",
    "# Filter out books rated less than 50 times\n",
    "books_to_keep = rating_counts[rating_counts >= 50].index\n",
    "\n",
    "# Filter the ratings to keep only the books rated more than 100 times\n",
    "ratings_filtered = ratings[ratings['ISBN'].isin(books_to_keep)]\n",
    "\n",
    "# Group by user to count the number of ratings per user\n",
    "user_counts = ratings_filtered.groupby('User-ID').size()\n",
    "\n",
    "# Filter out users who have rated less than 20 books\n",
    "users_to_keep = user_counts[user_counts >= 20].index\n",
    "\n",
    "# Filter the ratings to keep only the users who have rated more than 5 books\n",
    "ratings_filtered = ratings_filtered[ratings_filtered['User-ID'].isin(users_to_keep)]\n",
    "\n",
    "# Display the result\n",
    "print(f\"Original dataset size: {ratings.shape[0]} rows\")\n",
    "print(f\"Filtered dataset size: {ratings_filtered.shape[0]} rows\")\n",
    "print(ratings_filtered.head())\n"
   ]
  },
  {
   "cell_type": "code",
   "execution_count": 7,
   "metadata": {
    "colab": {
     "base_uri": "https://localhost:8080/"
    },
    "id": "Kqo5gjev8lMt",
    "outputId": "42595b03-6306-4432-97cb-3e6f4fac90ef"
   },
   "outputs": [
    {
     "name": "stdout",
     "output_type": "stream",
     "text": [
      "\n",
      "Filtered Books DataFrame:\n",
      "       Book-ID                                 Title            Author  \\\n",
      "18  0440234743                         The Testament      John Grisham   \n",
      "19  0452264464  Beloved (Plume Contemporary Fiction)     Toni Morrison   \n",
      "26  0971880107                           Wild Animus      Rich Shapero   \n",
      "27  0345402871                              Airframe  Michael Crichton   \n",
      "28  0345417623                              Timeline  MICHAEL CRICHTON   \n",
      "\n",
      "    Year-Of-Publication  \n",
      "18                 1999  \n",
      "19                 1994  \n",
      "26                 2004  \n",
      "27                 1997  \n",
      "28                 2000  \n"
     ]
    }
   ],
   "source": [
    "# Filter books that have a corresponding rating\n",
    "books_in_ratings = books_df[books_df['Book-ID'].isin(ratings_filtered['ISBN'])]\n",
    "\n",
    "# Display the filtered books DataFrame\n",
    "print(\"\\nFiltered Books DataFrame:\")\n",
    "print(books_in_ratings.head())\n"
   ]
  },
  {
   "cell_type": "code",
   "execution_count": 8,
   "metadata": {
    "colab": {
     "base_uri": "https://localhost:8080/"
    },
    "id": "9HamoWsFAuGu",
    "outputId": "652ec6e2-c4bd-472b-9d57-640adf3c24fc"
   },
   "outputs": [
    {
     "name": "stdout",
     "output_type": "stream",
     "text": [
      "Shape of the books DataFrame: (2161, 4)\n"
     ]
    }
   ],
   "source": [
    "# Calculate the shape of the books DataFrame\n",
    "books_shape = books_in_ratings.shape\n",
    "\n",
    "# Display the shape\n",
    "print(\"Shape of the books DataFrame:\", books_shape)"
   ]
  },
  {
   "cell_type": "code",
   "execution_count": 9,
   "metadata": {
    "colab": {
     "base_uri": "https://localhost:8080/"
    },
    "id": "Op35YhjYA4L6",
    "outputId": "3d0fd443-537f-47d9-9583-71f1af396d39"
   },
   "outputs": [
    {
     "name": "stdout",
     "output_type": "stream",
     "text": [
      "Shape of the Rating DataFrame: (133749, 3)\n"
     ]
    }
   ],
   "source": [
    "# Calculate the shape of the books DataFrame\n",
    "rating_shape = ratings_filtered.shape\n",
    "\n",
    "# Display the shape\n",
    "print(\"Shape of the Rating DataFrame:\", rating_shape)"
   ]
  },
  {
   "cell_type": "code",
   "execution_count": 10,
   "metadata": {
    "colab": {
     "base_uri": "https://localhost:8080/"
    },
    "id": "VW3fQ1RlKeff",
    "outputId": "047d6cd4-48f3-4e3e-e30c-3c6be0aac6e8"
   },
   "outputs": [
    {
     "name": "stdout",
     "output_type": "stream",
     "text": [
      "\n",
      "Number of books rated by each user:\n",
      "User-ID\n",
      "11676     1583\n",
      "35859      746\n",
      "76352      680\n",
      "16795      608\n",
      "153662     562\n",
      "          ... \n",
      "187266      20\n",
      "101620      20\n",
      "72990       20\n",
      "253629      20\n",
      "58612       20\n",
      "Name: count, Length: 2027, dtype: int64\n"
     ]
    }
   ],
   "source": [
    "# Filter ratings within the valid range (0-10)\n",
    "ratings_filtered = ratings_filtered[(ratings_filtered['Book-Rating'] >= 0) & (ratings_filtered['Book-Rating'] <= 10)]\n",
    "\n",
    "# Count the total number of books rated by each user\n",
    "user_ratings_count = ratings_filtered['User-ID'].value_counts()\n",
    "\n",
    "# Print the count of books rated by each user\n",
    "print(\"\\nNumber of books rated by each user:\")\n",
    "print(user_ratings_count)\n"
   ]
  },
  {
   "cell_type": "markdown",
   "metadata": {
    "id": "eRon0K-j5m_w"
   },
   "source": [
    "## Colaborative Filtering"
   ]
  },
  {
   "cell_type": "code",
   "execution_count": 11,
   "metadata": {
    "colab": {
     "base_uri": "https://localhost:8080/"
    },
    "id": "2usKeax36ZqE",
    "outputId": "9baa704f-a95b-4b01-d014-e3ddce7c54ec"
   },
   "outputs": [
    {
     "name": "stdout",
     "output_type": "stream",
     "text": [
      "\n",
      "Mean-Adjusted Ratings Head:\n",
      "      User-ID        ISBN  Mean-Adjusted-Rating\n",
      "1083   277195  0060391626                  8.75\n",
      "1084   277195  0060502258                 -1.25\n",
      "1089   277195  0060987561                 -1.25\n",
      "1098   277195  0316666343                 -1.25\n",
      "1099   277195  0316734837                 -1.25\n"
     ]
    }
   ],
   "source": [
    "# Mean-center the ratings\n",
    "ratings_filtered['Mean-Adjusted-Rating'] = ratings_filtered.groupby('User-ID')['Book-Rating'].transform(lambda x: x - x.mean())\n",
    "\n",
    "print(\"\\nMean-Adjusted Ratings Head:\")\n",
    "print(ratings_filtered[['User-ID', 'ISBN', 'Mean-Adjusted-Rating']].head())\n"
   ]
  },
  {
   "cell_type": "code",
   "execution_count": 12,
   "metadata": {
    "colab": {
     "base_uri": "https://localhost:8080/"
    },
    "id": "JXIXFmRAtaCH",
    "outputId": "c10c4baa-2391-4f50-cf08-5d0ec261cba8"
   },
   "outputs": [
    {
     "name": "stderr",
     "output_type": "stream",
     "text": [
      "D:\\Temp\\ipykernel_15680\\1573637332.py:6: FutureWarning: The default value of observed=False is deprecated and will change to observed=True in a future version of pandas. Specify observed=False to silence this warning and retain the current behavior\n",
      "  user_item_matrix = ratings_filtered.pivot_table(index='User-ID', columns='ISBN', values='Mean-Adjusted-Rating', fill_value=0)\n"
     ]
    },
    {
     "name": "stdout",
     "output_type": "stream",
     "text": [
      "\n",
      "User-Item Interaction Matrix with Rated Items:\n",
      "ISBN     000649840X  0007110928  002026478X  0020442203  002542730X  \\\n",
      "User-ID                                                               \n",
      "243             0.0         0.0         0.0         0.0         0.0   \n",
      "254             0.0         0.0         0.0         0.0         0.0   \n",
      "507             0.0         0.0         0.0         0.0         0.0   \n",
      "638             0.0         0.0         0.0         0.0         0.0   \n",
      "882             0.0         0.0         0.0         0.0         0.0   \n",
      "\n",
      "ISBN     0028604199  006000438X  0060008032  0060008776  006001203X  ...  \\\n",
      "User-ID                                                              ...   \n",
      "243             0.0    0.000000         0.0         0.0         0.0  ...   \n",
      "254             0.0   -1.987179         0.0         0.0         0.0  ...   \n",
      "507             0.0    0.000000         0.0         0.0         0.0  ...   \n",
      "638             0.0    0.000000         0.0         0.0         0.0  ...   \n",
      "882             0.0    0.000000         0.0         0.0         0.0  ...   \n",
      "\n",
      "ISBN     1931561648  3257228007  3257229534  3404148665  3423202327  \\\n",
      "User-ID                                                               \n",
      "243             0.0         0.0         0.0         0.0         0.0   \n",
      "254             0.0         0.0         0.0         0.0         0.0   \n",
      "507             0.0         0.0         0.0         0.0         0.0   \n",
      "638             0.0         0.0         0.0         0.0         0.0   \n",
      "882             0.0         0.0         0.0         0.0         0.0   \n",
      "\n",
      "ISBN     3426029553  3442437407  3442541751  3492045170  8873122933  \n",
      "User-ID                                                              \n",
      "243             0.0         0.0         0.0         0.0         0.0  \n",
      "254             0.0         0.0         0.0         0.0         0.0  \n",
      "507             0.0         0.0         0.0         0.0         0.0  \n",
      "638             0.0         0.0         0.0         0.0         0.0  \n",
      "882             0.0         0.0         0.0         0.0         0.0  \n",
      "\n",
      "[5 rows x 2185 columns]\n"
     ]
    }
   ],
   "source": [
    "# Convert IDs to categories\n",
    "ratings_filtered['User-ID'] = ratings_filtered['User-ID'].astype('category')\n",
    "ratings_filtered['ISBN'] = ratings_filtered['ISBN'].astype('category')\n",
    "\n",
    "# Create the User-Item Interaction Matrix\n",
    "user_item_matrix = ratings_filtered.pivot_table(index='User-ID', columns='ISBN', values='Mean-Adjusted-Rating', fill_value=0)\n",
    "\n",
    "# Show the resulting matrix of rated items\n",
    "print(\"\\nUser-Item Interaction Matrix with Rated Items:\")\n",
    "print(user_item_matrix.head())\n"
   ]
  },
  {
   "cell_type": "code",
   "execution_count": 14,
   "metadata": {
    "colab": {
     "base_uri": "https://localhost:8080/"
    },
    "id": "WOttFDM8uV-K",
    "outputId": "531327da-ca66-44cf-f6f9-e317648903e5"
   },
   "outputs": [
    {
     "name": "stdout",
     "output_type": "stream",
     "text": [
      "Starting item similarity computation for 2185 items...\n",
      "Processing item 1/2185...\n",
      "Processing item 101/2185...\n",
      "Processing item 201/2185...\n",
      "Processing item 301/2185...\n",
      "Processing item 401/2185...\n",
      "Processing item 501/2185...\n",
      "Processing item 601/2185...\n",
      "Processing item 701/2185...\n",
      "Processing item 801/2185...\n",
      "Processing item 901/2185...\n",
      "Processing item 1001/2185...\n",
      "Processing item 1101/2185...\n",
      "Processing item 1201/2185...\n",
      "Processing item 1301/2185...\n",
      "Processing item 1401/2185...\n",
      "Processing item 1501/2185...\n",
      "Processing item 1601/2185...\n",
      "Processing item 1701/2185...\n",
      "Processing item 1801/2185...\n",
      "Processing item 1901/2185...\n",
      "Processing item 2001/2185...\n",
      "Processing item 2101/2185...\n",
      "Item similarity computation complete.\n",
      "\n",
      "Item-Based Cosine Similarity Matrix (First Few Rows):\n",
      "ISBN        000649840X  0007110928  002026478X  0020442203  002542730X  \\\n",
      "ISBN                                                                     \n",
      "000649840X    1.000000    0.021106    0.005648    0.027808    0.021345   \n",
      "0007110928    0.021106    1.000000    0.000000    0.000000    0.003937   \n",
      "002026478X    0.005648    0.000000    1.000000   -0.016074   -0.034912   \n",
      "0020442203    0.027808    0.000000   -0.016074    1.000000    0.111278   \n",
      "002542730X    0.021345    0.003937   -0.034912    0.111278    1.000000   \n",
      "\n",
      "ISBN        0028604199  006000438X  0060008032  0060008776  006001203X  ...  \\\n",
      "ISBN                                                                    ...   \n",
      "000649840X   -0.092120    0.103212   -0.038842    0.000000    0.019376  ...   \n",
      "0007110928    0.000000    0.007421   -0.040747    0.000000   -0.032072  ...   \n",
      "002026478X   -0.019100    0.027352    0.003717    0.007545   -0.057143  ...   \n",
      "0020442203   -0.016188    0.000000   -0.041595    0.000000    0.000719  ...   \n",
      "002542730X    0.180743    0.026107   -0.017667   -0.014200   -0.026191  ...   \n",
      "\n",
      "ISBN        1931561648  3257228007  3257229534  3404148665  3423202327  \\\n",
      "ISBN                                                                     \n",
      "000649840X    0.028781   -0.082133   -0.115503    0.079853    0.152666   \n",
      "0007110928    0.026063   -0.074378   -0.104597    0.072313    0.138250   \n",
      "002026478X   -0.009248    0.000000    0.000000    0.000000    0.000000   \n",
      "0020442203    0.001860    0.000000    0.000000    0.000000    0.000000   \n",
      "002542730X    0.005369   -0.015322   -0.021548    0.014897    0.028481   \n",
      "\n",
      "ISBN        3426029553  3442437407  3442541751  3492045170  8873122933  \n",
      "ISBN                                                                    \n",
      "000649840X   -0.152666    0.130070    0.050080    0.076295   -0.117027  \n",
      "0007110928   -0.138250    0.117788    0.045351    0.069091   -0.105976  \n",
      "002026478X    0.000000    0.000000    0.000000    0.000000    0.000000  \n",
      "0020442203    0.000000    0.000000    0.000000    0.000000    0.000000  \n",
      "002542730X   -0.028481    0.024265    0.009343    0.014233   -0.020099  \n",
      "\n",
      "[5 rows x 2185 columns]\n"
     ]
    }
   ],
   "source": [
    "# Compute item-based cosine similarity\n",
    "item_base_cosine_similarity = compute_item_similarity_manual(user_item_matrix)\n",
    "\n",
    "# Convert similarity matrix to a DataFrame for easier viewing\n",
    "item_similarity_df = pd.DataFrame(\n",
    "    item_base_cosine_similarity,\n",
    "    index=user_item_matrix.columns,  # Use ISBNs as row/column labels\n",
    "    columns=user_item_matrix.columns\n",
    ")\n",
    "\n",
    "# Display the first few rows of the similarity DataFrame\n",
    "print(\"\\nItem-Based Cosine Similarity Matrix (First Few Rows):\")\n",
    "print(item_similarity_df.head())\n"
   ]
  },
  {
   "cell_type": "markdown",
   "metadata": {},
   "source": [
    "# Case Based"
   ]
  },
  {
   "cell_type": "code",
   "execution_count": null,
   "metadata": {
    "id": "wp28sjapnDsT"
   },
   "outputs": [],
   "source": [
    "# Case-Based Similarity Computation (based on user-provided attributes like Author and Year)\n",
    "def calculate_case_similarity(book, user_prefs, weights):\n",
    "    similarity = 0\n",
    "    total_weight = sum(weights.values())\n",
    "    for attr, weight in weights.items():\n",
    "        if attr in user_prefs:\n",
    "            if attr == \"Year-Of-Publication\":\n",
    "                similarity += weight * (1 - abs(book[attr] - user_prefs[attr]) / 100)  # Normalize the year difference\n",
    "            elif attr == \"Author\":\n",
    "                similarity += weight * (1 if book[attr] == user_prefs[attr] else 0)  # Exact match for author\n",
    "    return similarity / total_weight"
   ]
  },
  {
   "cell_type": "code",
   "execution_count": 17,
   "metadata": {
    "colab": {
     "base_uri": "https://localhost:8080/"
    },
    "id": "vKaXYxBUyRme",
    "outputId": "521b7e30-751e-4ca3-f9fe-1bd5c72d03b3"
   },
   "outputs": [
    {
     "name": "stdout",
     "output_type": "stream",
     "text": [
      "Top Authors:\n",
      "Author\n",
      "Agatha Christie        632\n",
      "William Shakespeare    567\n",
      "Stephen King           524\n",
      "Ann M. Martin          423\n",
      "Carolyn Keene          373\n",
      "Francine Pascal        373\n",
      "Isaac Asimov           330\n",
      "Nora Roberts           315\n",
      "Barbara Cartland       307\n",
      "Charles Dickens        302\n",
      "Name: count, dtype: int64\n",
      "\n",
      "Top Years of Publication:\n",
      "Year-Of-Publication\n",
      "2002    17628\n",
      "1999    17431\n",
      "2001    17360\n",
      "2000    17235\n",
      "1998    15767\n",
      "1997    14892\n",
      "2003    14359\n",
      "1996    14031\n",
      "1995    13547\n",
      "1994    11796\n",
      "Name: count, dtype: int64\n"
     ]
    }
   ],
   "source": [
    "# Count how many books are available by each author\n",
    "author_counts = books_df['Author'].value_counts()\n",
    "\n",
    "# Get the top 10 most frequent authors\n",
    "top_authors = author_counts.head(10)\n",
    "\n",
    "# Display the top authors\n",
    "print(\"Top Authors:\")\n",
    "print(top_authors)\n",
    "\n",
    "# Count the distribution of books by year of publication\n",
    "year_counts = books_df['Year-Of-Publication'].value_counts()\n",
    "\n",
    "# Get the top 10 most frequent publication years\n",
    "top_years = year_counts.head(10)\n",
    "\n",
    "# Display the top years\n",
    "print(\"\\nTop Years of Publication:\")\n",
    "print(top_years)\n"
   ]
  },
  {
   "cell_type": "code",
   "execution_count": 19,
   "metadata": {
    "colab": {
     "base_uri": "https://localhost:8080/"
    },
    "id": "lY6oXiHErB8F",
    "outputId": "fe307582-ad5f-4f63-b35c-bb0b5a02ede0"
   },
   "outputs": [
    {
     "name": "stdout",
     "output_type": "stream",
     "text": [
      "\n",
      "Calculating Case-Based Similarity for each book...\n"
     ]
    },
    {
     "name": "stderr",
     "output_type": "stream",
     "text": [
      "D:\\Temp\\ipykernel_15680\\3564065969.py:3: SettingWithCopyWarning: \n",
      "A value is trying to be set on a copy of a slice from a DataFrame.\n",
      "Try using .loc[row_indexer,col_indexer] = value instead\n",
      "\n",
      "See the caveats in the documentation: https://pandas.pydata.org/pandas-docs/stable/user_guide/indexing.html#returning-a-view-versus-a-copy\n",
      "  books_in_ratings['Case-Based-Similarity'] = books_in_ratings.apply(\n"
     ]
    }
   ],
   "source": [
    "# Apply case-based similarity to all books in the filtered books dataset\n",
    "print(\"\\nCalculating Case-Based Similarity for each book...\")\n",
    "books_in_ratings['Case-Based-Similarity'] = books_in_ratings.apply(\n",
    "    lambda x: calculate_case_similarity(x, user_preferences, attribute_weights), axis=1\n",
    ")"
   ]
  },
  {
   "cell_type": "code",
   "execution_count": 22,
   "metadata": {
    "colab": {
     "base_uri": "https://localhost:8080/"
    },
    "id": "TCXNBWpxtG-o",
    "outputId": "400565fb-93a3-47c3-c50e-ee6c9a71a7eb"
   },
   "outputs": [
    {
     "name": "stdout",
     "output_type": "stream",
     "text": [
      "\n",
      "Top 5 Recommended Books:\n",
      "Title: A Game of Thrones (A Song of Ice and Fire, Book 1), Final Score: 0.69\n",
      "Title: Fortune's Hand, Final Score: 0.28\n",
      "Title: Night Moves (Tom Clancy's Net Force, No. 3), Final Score: 0.28\n",
      "Title: Bittersweet, Final Score: 0.28\n",
      "Title: Lake News, Final Score: 0.28\n"
     ]
    }
   ],
   "source": [
    "# Output the top 5 recommended books\n",
    "print(\"\\nTop 5 Recommended Books:\")\n",
    "for isbn, title, score in recommendations:\n",
    "    print(f\"Title: {title}, Final Score: {score:.2f}\")"
   ]
  }
 ],
 "metadata": {
  "colab": {
   "provenance": []
  },
  "kernelspec": {
   "display_name": "Python 3",
   "name": "python3"
  },
  "language_info": {
   "codemirror_mode": {
    "name": "ipython",
    "version": 3
   },
   "file_extension": ".py",
   "mimetype": "text/x-python",
   "name": "python",
   "nbconvert_exporter": "python",
   "pygments_lexer": "ipython3",
   "version": "3.12.2"
  }
 },
 "nbformat": 4,
 "nbformat_minor": 0
}
